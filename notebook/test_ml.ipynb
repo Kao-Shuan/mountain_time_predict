{
 "cells": [
  {
   "cell_type": "code",
   "execution_count": 10,
   "id": "2ae21df6",
   "metadata": {},
   "outputs": [],
   "source": [
    "# 跑完這個 就可以call db了\n",
    "import pandas as pd\n",
    "import os\n",
    "import sys\n",
    "from pathlib import Path\n",
    "CURRENT_DIR = Path(os.getcwd())\n",
    "PROJECT_ROOT = CURRENT_DIR.parent  # 如果你在 notebook/ 裡執行\n",
    "sys.path.insert(0, str(PROJECT_ROOT))\n",
    "from src.config import SQLALCHEMY_DATABASE_URI\n",
    "from sqlalchemy import create_engine\n",
    "engine = create_engine(SQLALCHEMY_DATABASE_URI)"
   ]
  },
  {
   "cell_type": "code",
   "execution_count": null,
   "id": "24ad6925",
   "metadata": {},
   "outputs": [
    {
     "name": "stdout",
     "output_type": "stream",
     "text": [
      "🎉 沒有缺失，日期完整！\n"
     ]
    }
   ],
   "source": [
    "df = pd.read_csv(r'..\\data\\interim\\weather\\weather.csv')\n",
    "dates = pd.to_datetime(df['date'])\n",
    "expected_dates = pd.date_range(start=\"2016-04-01\", end=\"2025-06-30\", freq=\"D\")\n",
    "missing_dates = expected_dates.difference(dates)\n",
    "\n",
    "if len(missing_dates) == 0:\n",
    "    print(\"🎉 沒有缺失，日期完整！\")\n",
    "else:\n",
    "    print(f\"❗ 缺少 {len(missing_dates)} 天：\")\n",
    "    print(missing_dates)"
   ]
  }
 ],
 "metadata": {
  "kernelspec": {
   "display_name": "Python 3",
   "language": "python",
   "name": "python3"
  },
  "language_info": {
   "codemirror_mode": {
    "name": "ipython",
    "version": 3
   },
   "file_extension": ".py",
   "mimetype": "text/x-python",
   "name": "python",
   "nbconvert_exporter": "python",
   "pygments_lexer": "ipython3",
   "version": "3.13.2"
  }
 },
 "nbformat": 4,
 "nbformat_minor": 5
}
