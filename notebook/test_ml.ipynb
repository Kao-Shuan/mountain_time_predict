{
 "cells": [
  {
   "cell_type": "code",
   "execution_count": 6,
   "id": "2ae21df6",
   "metadata": {},
   "outputs": [],
   "source": [
    "# 跑完這個 就可以call db了\n",
    "import pandas as pd\n",
    "import os\n",
    "import sys\n",
    "from pathlib import Path\n",
    "CURRENT_DIR = Path(os.getcwd())\n",
    "PROJECT_ROOT = CURRENT_DIR.parent  # 如果你在 notebook/ 裡執行\n",
    "sys.path.insert(0, str(PROJECT_ROOT))\n",
    "from src.config import SQLALCHEMY_DATABASE_URI\n",
    "from sqlalchemy import create_engine\n",
    "engine = create_engine(SQLALCHEMY_DATABASE_URI)"
   ]
  },
  {
   "cell_type": "code",
   "execution_count": 8,
   "id": "24ad6925",
   "metadata": {},
   "outputs": [
    {
     "name": "stdout",
     "output_type": "stream",
     "text": [
      "<class 'pandas.core.frame.DataFrame'>\n",
      "RangeIndex: 392 entries, 0 to 391\n",
      "Data columns (total 23 columns):\n",
      " #   Column              Non-Null Count  Dtype         \n",
      "---  ------              --------------  -----         \n",
      " 0   date                392 non-null    datetime64[ns]\n",
      " 1   uploader            392 non-null    object        \n",
      " 2   total_distance_km   392 non-null    float64       \n",
      " 3   total_ascent_m      392 non-null    float64       \n",
      " 4   total_descent_m     392 non-null    float64       \n",
      " 5   total_duration      392 non-null    object        \n",
      " 6   ascent_time         392 non-null    object        \n",
      " 7   descent_time        392 non-null    object        \n",
      " 8   ascent_speed_kmh    392 non-null    float64       \n",
      " 9   ascent_speed_vmph   392 non-null    float64       \n",
      " 10  descent_speed_kmh   392 non-null    float64       \n",
      " 11  descent_speed_vmph  392 non-null    float64       \n",
      " 12  avg_speed_kmh       392 non-null    float64       \n",
      " 13  avg_speed_vmph      392 non-null    float64       \n",
      " 14  max_elevation_m     392 non-null    float64       \n",
      " 15  min_elevation_m     392 non-null    float64       \n",
      " 16  station_id          373 non-null    object        \n",
      " 17  season              373 non-null    object        \n",
      " 18  temperature         373 non-null    float64       \n",
      " 19  humidity            373 non-null    float64       \n",
      " 20  wind_speed          373 non-null    float64       \n",
      " 21  wind_direction      373 non-null    float64       \n",
      " 22  rainfall            372 non-null    float64       \n",
      "dtypes: datetime64[ns](1), float64(16), object(6)\n",
      "memory usage: 70.6+ KB\n"
     ]
    }
   ],
   "source": [
    "df = pd.read_sql('hiking', con=engine) \n",
    "df.info()"
   ]
  }
 ],
 "metadata": {
  "kernelspec": {
   "display_name": "Python 3",
   "language": "python",
   "name": "python3"
  },
  "language_info": {
   "codemirror_mode": {
    "name": "ipython",
    "version": 3
   },
   "file_extension": ".py",
   "mimetype": "text/x-python",
   "name": "python",
   "nbconvert_exporter": "python",
   "pygments_lexer": "ipython3",
   "version": "3.13.3"
  }
 },
 "nbformat": 4,
 "nbformat_minor": 5
}
