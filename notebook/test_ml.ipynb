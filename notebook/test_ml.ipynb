{
 "cells": [
  {
   "cell_type": "code",
   "execution_count": 1,
   "id": "2ae21df6",
   "metadata": {},
   "outputs": [],
   "source": [
    "# 跑完這個 就可以call db了\n",
    "import pandas as pd\n",
    "import os\n",
    "import sys\n",
    "from pathlib import Path\n",
    "CURRENT_DIR = Path(os.getcwd())\n",
    "PROJECT_ROOT = CURRENT_DIR.parent  # 如果你在 notebook/ 裡執行\n",
    "sys.path.insert(0, str(PROJECT_ROOT))\n",
    "from src.config import SQLALCHEMY_DATABASE_URI\n",
    "from sqlalchemy import create_engine\n",
    "engine = create_engine(SQLALCHEMY_DATABASE_URI)"
   ]
  },
  {
   "cell_type": "code",
   "execution_count": 5,
   "id": "24ad6925",
   "metadata": {},
   "outputs": [
    {
     "name": "stdout",
     "output_type": "stream",
     "text": [
      "<class 'pandas.core.frame.DataFrame'>\n",
      "RangeIndex: 270 entries, 0 to 269\n",
      "Data columns (total 15 columns):\n",
      " #   Column                     Non-Null Count  Dtype         \n",
      "---  ------                     --------------  -----         \n",
      " 0   end_date                   270 non-null    datetime64[ns]\n",
      " 1   user                       270 non-null    object        \n",
      " 2   distance                   270 non-null    float64       \n",
      " 3   total_ascent               270 non-null    float64       \n",
      " 4   total_descent              270 non-null    float64       \n",
      " 5   total_time                 270 non-null    int64         \n",
      " 6   time_to_max_elevation_min  270 non-null    int64         \n",
      " 7   time_from_max_to_end_min   270 non-null    int64         \n",
      " 8   station_id                 270 non-null    object        \n",
      " 9   season                     270 non-null    object        \n",
      " 10  temperature                270 non-null    float64       \n",
      " 11  humidity                   270 non-null    int64         \n",
      " 12  wind_speed                 270 non-null    float64       \n",
      " 13  wind_direction             270 non-null    int64         \n",
      " 14  rainfall                   269 non-null    float64       \n",
      "dtypes: datetime64[ns](1), float64(6), int64(5), object(3)\n",
      "memory usage: 31.8+ KB\n"
     ]
    }
   ],
   "source": [
    "df = pd.read_sql('hiking', con=engine)\n",
    "df.info()"
   ]
  }
 ],
 "metadata": {
  "kernelspec": {
   "display_name": "Python 3",
   "language": "python",
   "name": "python3"
  },
  "language_info": {
   "codemirror_mode": {
    "name": "ipython",
    "version": 3
   },
   "file_extension": ".py",
   "mimetype": "text/x-python",
   "name": "python",
   "nbconvert_exporter": "python",
   "pygments_lexer": "ipython3",
   "version": "3.13.2"
  }
 },
 "nbformat": 4,
 "nbformat_minor": 5
}
