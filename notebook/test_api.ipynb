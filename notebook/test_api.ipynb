{
 "cells": [
  {
   "cell_type": "code",
   "execution_count": 55,
   "id": "858578c0",
   "metadata": {},
   "outputs": [],
   "source": [
    "import pandas as pd\n",
    "import os\n",
    "import certifi\n",
    "import requests\n",
    "from bs4 import BeautifulSoup\n",
    "\n",
    "from dotenv import load_dotenv\n",
    "load_dotenv()\n",
    "KEY = os.getenv(\"WEATHER_KEY\")"
   ]
  },
  {
   "cell_type": "code",
   "execution_count": 39,
   "id": "1d5841ed",
   "metadata": {},
   "outputs": [
    {
     "name": "stderr",
     "output_type": "stream",
     "text": [
      "c:\\Users\\owner\\Desktop\\mountain\\venv\\Lib\\site-packages\\urllib3\\connectionpool.py:1097: InsecureRequestWarning: Unverified HTTPS request is being made to host 'opendata.cwa.gov.tw'. Adding certificate verification is strongly advised. See: https://urllib3.readthedocs.io/en/latest/advanced-usage.html#tls-warnings\n",
      "  warnings.warn(\n"
     ]
    },
    {
     "data": {
      "text/plain": [
       "<Response [200]>"
      ]
     },
     "execution_count": 39,
     "metadata": {},
     "output_type": "execute_result"
    }
   ],
   "source": [
    "url = \"https://opendata.cwa.gov.tw/api/v1/rest/datastore/O-A0001-001\"\n",
    "params = {\n",
    "    \"Authorization\": KEY,\n",
    "    \"format\": \"JSON\",\n",
    "}\n",
    "\n",
    "res = requests.get(url, params=params, verify=False)\n",
    "res"
   ]
  },
  {
   "cell_type": "code",
   "execution_count": 71,
   "id": "30413d5e",
   "metadata": {},
   "outputs": [
    {
     "name": "stderr",
     "output_type": "stream",
     "text": [
      "c:\\Users\\owner\\Desktop\\mountain\\venv\\Lib\\site-packages\\urllib3\\connectionpool.py:1097: InsecureRequestWarning: Unverified HTTPS request is being made to host 'hdps.cwa.gov.tw'. Adding certificate verification is strongly advised. See: https://urllib3.readthedocs.io/en/latest/advanced-usage.html#tls-warnings\n",
      "  warnings.warn(\n"
     ]
    },
    {
     "name": "stdout",
     "output_type": "stream",
     "text": [
      "✅ 轉存完成，共筆數： 537\n"
     ]
    }
   ],
   "source": [
    "import requests\n",
    "from bs4 import BeautifulSoup\n",
    "import pandas as pd\n",
    "\n",
    "url = \"https://hdps.cwa.gov.tw/static/state.html\"\n",
    "res = requests.get(url, verify=False)\n",
    "res.encoding = 'utf-8'\n",
    "\n",
    "soup = BeautifulSoup(res.text, \"html.parser\")\n",
    "\n",
    "# 抓第一個表格 (現存測站)\n",
    "table = soup.find(\"table\")\n",
    "rows = table.find_all(\"tr\")\n",
    "\n",
    "data = []\n",
    "for row in rows:\n",
    "    cols = [td.get_text(strip=True) for td in row.find_all(\"td\")]\n",
    "    if cols:\n",
    "        data.append(cols)\n",
    "\n",
    "columns = [\"站號\", \"站名\", \"站種\", \"海拔高度(m)\", \"經度\", \"緯度\", \"城市\", \"地址\", \"資料起始日期\", \"撤站日期\", \"備註\", \"原站號\", \"新站號\"]# ✅ 請依實際內容修改\n",
    "\n",
    "# 建立 DataFrame 並儲存\n",
    "df = pd.DataFrame(data, columns=columns) \n",
    "df = df[df['站號'].str.match(r'^(C0|46)')] # 只要 有人 跟 無人氣象站\n",
    "df.to_csv(\"stations.csv\", index=False, encoding=\"utf-8-sig\")\n",
    "print(\"✅ 轉存完成，共筆數：\", len(df))\n",
    "\n",
    "\n"
   ]
  },
  {
   "cell_type": "code",
   "execution_count": null,
   "id": "72ecd5d1",
   "metadata": {},
   "outputs": [],
   "source": [
    "from math import radians, sin, cos, sqrt, atan2\n",
    "\n",
    "def haversine(lat1, lon1, lat2, lon2):\n",
    "    R = 6371\n",
    "    dlat = radians(lat2 - lat1)\n",
    "    dlon = radians(lon2 - lon1)\n",
    "    a = sin(dlat/2)**2 + cos(radians(lat1)) * cos(radians(lat2)) * sin(dlon/2)**2\n",
    "    c = 2 * atan2(sqrt(a), sqrt(1 - a))\n",
    "    return R * c\n",
    "\n",
    "def get_nearest_station_id(lat, lon, df):\n",
    "    \"\"\"回傳最近測站的站號\"\"\"\n",
    "    min_dist = float(\"inf\")\n",
    "    nearest_station_id = None\n",
    "\n",
    "    for _, row in df.iterrows():\n",
    "        try:\n",
    "            station_lat = float(row[\"緯度\"])\n",
    "            station_lon = float(row[\"經度\"])\n",
    "            dist = haversine(lat, lon, station_lat, station_lon)\n",
    "            if dist < min_dist:\n",
    "                min_dist = dist\n",
    "                nearest_station_id = row[\"站號\"]\n",
    "        except ValueError:\n",
    "            continue\n",
    "\n",
    "    return nearest_station_id"
   ]
  },
  {
   "cell_type": "code",
   "execution_count": 76,
   "id": "ee1a58a7",
   "metadata": {},
   "outputs": [
    {
     "data": {
      "text/plain": [
       "'C0U750'"
      ]
     },
     "execution_count": 76,
     "metadata": {},
     "output_type": "execute_result"
    }
   ],
   "source": [
    "lat = 24.1367\n",
    "lon = 124.6858\n",
    "\n",
    "nearest_id = get_nearest_station_id(lat, lon, df)\n",
    "nearest_id"
   ]
  }
 ],
 "metadata": {
  "kernelspec": {
   "display_name": "venv",
   "language": "python",
   "name": "python3"
  },
  "language_info": {
   "codemirror_mode": {
    "name": "ipython",
    "version": 3
   },
   "file_extension": ".py",
   "mimetype": "text/x-python",
   "name": "python",
   "nbconvert_exporter": "python",
   "pygments_lexer": "ipython3",
   "version": "3.13.5"
  }
 },
 "nbformat": 4,
 "nbformat_minor": 5
}
